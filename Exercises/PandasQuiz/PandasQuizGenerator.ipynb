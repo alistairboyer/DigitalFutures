{
  "nbformat": 4,
  "nbformat_minor": 0,
  "metadata": {
    "colab": {
      "provenance": []
    },
    "kernelspec": {
      "name": "python3",
      "display_name": "Python 3"
    },
    "language_info": {
      "name": "python"
    }
  },
  "cells": [
    {
      "cell_type": "code",
      "execution_count": 161,
      "metadata": {
        "id": "9A-1GGLfUZo_"
      },
      "outputs": [],
      "source": [
        "import pandas as pd\n",
        "import numpy as np\n",
        "import requests\n",
        "import random\n",
        "import IPython.display\n",
        "from bs4 import BeautifulSoup"
      ]
    },
    {
      "cell_type": "code",
      "source": [
        "QUIZ_CATEGORIES = [\n",
        "    ('https://pandas.pydata.org/docs/reference/general_functions.html', '#general-functions'),\n",
        "    ('https://pandas.pydata.org/docs/reference/frame.html', '#dataframe'),\n",
        "    ('https://pandas.pydata.org/docs/reference/series.html', '#series'),\n",
        "]"
      ],
      "metadata": {
        "id": "Cha7kzyZUhzM"
      },
      "execution_count": 162,
      "outputs": []
    },
    {
      "cell_type": "code",
      "source": [
        "def get_quiz_data(main_section):\n",
        "    category = main_section.h1.text.strip(\"#\")\n",
        "    for section in main_section.select(\"section\"):\n",
        "        try:\n",
        "            section_name = section.h2.text.strip(\"#\")\n",
        "            for tr in section.select(\"tr\"):\n",
        "                    yield {\n",
        "                        \"category\": category,\n",
        "                        \"section\": section_name,\n",
        "                        \"method\": tr.find(class_=[\"reference\", \"internal\"])['title'],\n",
        "                        \"method_url\": tr.find(class_=[\"reference\", \"internal\"])['href'],\n",
        "                        \"question\": tr.find_all(\"td\")[1].text,\n",
        "                    }\n",
        "        except Exception as e:\n",
        "            # a these errors are not relevant to the desired data and can be skipped\n",
        "            continue\n",
        "\n",
        "\n",
        "def get_questions(api_url, section_id):\n",
        "    soup = BeautifulSoup(requests.get(api_url).content)\n",
        "    main_section = soup.select(section_id)[0]\n",
        "    yield pd.DataFrame(get_quiz_data(main_section))\n",
        "\n",
        "\n",
        "def get_all_questions():\n",
        "    for api_url, section_id in QUIZ_CATEGORIES:\n",
        "        yield from get_questions(api_url, section_id)\n",
        "\n",
        "\n",
        "def question_df():\n",
        "    # get all the question materials\n",
        "    df = pd.concat(get_all_questions())\n",
        "    # let's not ask deprecated questions\n",
        "    df.loc[df['question'].str.contains(\"DEPRECATED\", regex=False), 'question'] = np.nan\n",
        "    df.dropna(inplace=True)\n",
        "    return df"
      ],
      "metadata": {
        "id": "1nyKfG49U7CK"
      },
      "execution_count": 163,
      "outputs": []
    },
    {
      "cell_type": "code",
      "source": [
        "df = question_df()\n",
        "df.to_csv(\"PandasMethods.csv\")"
      ],
      "metadata": {
        "id": "QdN4jnHwrWUH"
      },
      "execution_count": 165,
      "outputs": []
    }
  ]
}